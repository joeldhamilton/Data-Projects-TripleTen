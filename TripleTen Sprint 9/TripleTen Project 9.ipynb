{
 "cells": [
  {
   "cell_type": "markdown",
   "metadata": {},
   "source": [
    "# Sprint 9 Project"
   ]
  },
  {
   "cell_type": "markdown",
   "metadata": {},
   "source": [
    "# Introduction"
   ]
  },
  {
   "cell_type": "markdown",
   "metadata": {},
   "source": [
    "As a data scientist at OilyGiant mining company, I have been tasked with finding the optimal location to develop a new oil well that will maximize profits for the company. To do this, I will analyze oil well data from three different regions, build a linear regression model to predict the volume of reserves in new wells, and use the model to estimate the potential profits and risks for each region. \n",
    "\n",
    "The project will involve several key steps:\n",
    "1. Collecting and preparing oil well data for each region, including oil quality and volume of reserves\n",
    "2. Building and evaluating a linear regression model for each region using a train/test split \n",
    "3. Calculating the minimum volume of reserves needed for a profitable new well\n",
    "4. Selecting the best oil wells in each region based on the model's predictions\n",
    "5. Estimating the total profit for the top well sites in each region\n",
    "6. Assessing the potential profit and loss risks for each region using the bootstrapping statistical technique\n",
    "7. Recommending the optimal region for development based on which one offers the highest estimated profit with a risk of loss below 2.5%\n",
    "\n",
    "By carefully analyzing the data, building predictive models, and weighing potential risks and rewards, this project aims to provide a data-driven recommendation for where OilyGiant can develop a new oil well to maximize returns on its investment. The datasets, code, and detailed findings from each stage of the analysis are presented in the following sections."
   ]
  },
  {
   "cell_type": "markdown",
   "metadata": {},
   "source": [
    "## Preparation of Data"
   ]
  },
  {
   "cell_type": "markdown",
   "metadata": {},
   "source": [
    "### Description of the Data\n",
    "\n",
    "Geological exploration data for the three regions are stored in files:\n",
    "\n",
    "`geo_data_0.csv`\n",
    "\n",
    "`geo_data_1.csv`\n",
    "\n",
    "`geo_data_2.csv`\n",
    "\n",
    "`id` — unique oil well identifier\n",
    "\n",
    "`f0`, `f1`, `f2` — three features of points (their specific meaning is unimportant, but the features themselves are significant)\n",
    "\n",
    "`product` — volume of reserves in the oil well (thousand barrels)."
   ]
  },
  {
   "cell_type": "markdown",
   "metadata": {},
   "source": [
    "### Data Conditions\n",
    "\n",
    "Only linear regression is suitable for model training (the rest are not sufficiently predictable).\n",
    "When exploring the region, a study of 500 points is carried with picking the best 200 points for the profit calculation.\n",
    "\n",
    "The budget for development of 200 oil wells is 100 USD million.\n",
    "\n",
    "One barrel of raw materials brings 4.5 USD of revenue The revenue from one unit of product is 4,500 dollars (volume of reserves is in thousand barrels).\n",
    "\n",
    "After the risk evaluation, keep only the regions with the risk of losses lower than 2.5%. From the ones that fit the criteria, the region with the highest average profit should be selected.\n",
    "\n",
    "The data is synthetic: contract details and well characteristics are not disclosed."
   ]
  },
  {
   "cell_type": "markdown",
   "metadata": {},
   "source": [
    "### Intialization"
   ]
  },
  {
   "cell_type": "code",
   "execution_count": 1,
   "metadata": {},
   "outputs": [],
   "source": [
    "# Loading all the libraries\n",
    "import pandas as pd\n",
    "from sklearn.model_selection import train_test_split\n",
    "from sklearn.linear_model import LinearRegression\n",
    "from sklearn.metrics import mean_squared_error\n",
    "from sklearn.utils import resample\n",
    "import numpy as np"
   ]
  },
  {
   "cell_type": "markdown",
   "metadata": {},
   "source": [
    "### Load Data"
   ]
  },
  {
   "cell_type": "code",
   "execution_count": 2,
   "metadata": {},
   "outputs": [],
   "source": [
    "#Load tables into dataframes\n",
    "\n",
    "#geo_data_0.csv\n",
    "geo_data_0 = pd.read_csv('/datasets/geo_data_0.csv')\n",
    "\n",
    "#geo_data_1.csv\n",
    "geo_data_1 = pd.read_csv('/datasets/geo_data_1.csv')\n",
    "\n",
    "#geo_data_2.csv\n",
    "geo_data_2 = pd.read_csv('/datasets/geo_data_2.csv')"
   ]
  },
  {
   "cell_type": "markdown",
   "metadata": {},
   "source": [
    "### General Information"
   ]
  },
  {
   "cell_type": "markdown",
   "metadata": {},
   "source": [
    "#### geo_data_0"
   ]
  },
  {
   "cell_type": "code",
   "execution_count": 3,
   "metadata": {},
   "outputs": [
    {
     "name": "stdout",
     "output_type": "stream",
     "text": [
      "<class 'pandas.core.frame.DataFrame'>\n",
      "RangeIndex: 100000 entries, 0 to 99999\n",
      "Data columns (total 5 columns):\n",
      " #   Column   Non-Null Count   Dtype  \n",
      "---  ------   --------------   -----  \n",
      " 0   id       100000 non-null  object \n",
      " 1   f0       100000 non-null  float64\n",
      " 2   f1       100000 non-null  float64\n",
      " 3   f2       100000 non-null  float64\n",
      " 4   product  100000 non-null  float64\n",
      "dtypes: float64(4), object(1)\n",
      "memory usage: 3.8+ MB\n"
     ]
    }
   ],
   "source": [
    "geo_data_0.info()"
   ]
  },
  {
   "cell_type": "code",
   "execution_count": 4,
   "metadata": {},
   "outputs": [
    {
     "data": {
      "text/html": [
       "<div>\n",
       "<style scoped>\n",
       "    .dataframe tbody tr th:only-of-type {\n",
       "        vertical-align: middle;\n",
       "    }\n",
       "\n",
       "    .dataframe tbody tr th {\n",
       "        vertical-align: top;\n",
       "    }\n",
       "\n",
       "    .dataframe thead th {\n",
       "        text-align: right;\n",
       "    }\n",
       "</style>\n",
       "<table border=\"1\" class=\"dataframe\">\n",
       "  <thead>\n",
       "    <tr style=\"text-align: right;\">\n",
       "      <th></th>\n",
       "      <th>id</th>\n",
       "      <th>f0</th>\n",
       "      <th>f1</th>\n",
       "      <th>f2</th>\n",
       "      <th>product</th>\n",
       "    </tr>\n",
       "  </thead>\n",
       "  <tbody>\n",
       "    <tr>\n",
       "      <th>0</th>\n",
       "      <td>txEyH</td>\n",
       "      <td>0.705745</td>\n",
       "      <td>-0.497823</td>\n",
       "      <td>1.221170</td>\n",
       "      <td>105.280062</td>\n",
       "    </tr>\n",
       "    <tr>\n",
       "      <th>1</th>\n",
       "      <td>2acmU</td>\n",
       "      <td>1.334711</td>\n",
       "      <td>-0.340164</td>\n",
       "      <td>4.365080</td>\n",
       "      <td>73.037750</td>\n",
       "    </tr>\n",
       "    <tr>\n",
       "      <th>2</th>\n",
       "      <td>409Wp</td>\n",
       "      <td>1.022732</td>\n",
       "      <td>0.151990</td>\n",
       "      <td>1.419926</td>\n",
       "      <td>85.265647</td>\n",
       "    </tr>\n",
       "    <tr>\n",
       "      <th>3</th>\n",
       "      <td>iJLyR</td>\n",
       "      <td>-0.032172</td>\n",
       "      <td>0.139033</td>\n",
       "      <td>2.978566</td>\n",
       "      <td>168.620776</td>\n",
       "    </tr>\n",
       "    <tr>\n",
       "      <th>4</th>\n",
       "      <td>Xdl7t</td>\n",
       "      <td>1.988431</td>\n",
       "      <td>0.155413</td>\n",
       "      <td>4.751769</td>\n",
       "      <td>154.036647</td>\n",
       "    </tr>\n",
       "    <tr>\n",
       "      <th>...</th>\n",
       "      <td>...</td>\n",
       "      <td>...</td>\n",
       "      <td>...</td>\n",
       "      <td>...</td>\n",
       "      <td>...</td>\n",
       "    </tr>\n",
       "    <tr>\n",
       "      <th>99995</th>\n",
       "      <td>DLsed</td>\n",
       "      <td>0.971957</td>\n",
       "      <td>0.370953</td>\n",
       "      <td>6.075346</td>\n",
       "      <td>110.744026</td>\n",
       "    </tr>\n",
       "    <tr>\n",
       "      <th>99996</th>\n",
       "      <td>QKivN</td>\n",
       "      <td>1.392429</td>\n",
       "      <td>-0.382606</td>\n",
       "      <td>1.273912</td>\n",
       "      <td>122.346843</td>\n",
       "    </tr>\n",
       "    <tr>\n",
       "      <th>99997</th>\n",
       "      <td>3rnvd</td>\n",
       "      <td>1.029585</td>\n",
       "      <td>0.018787</td>\n",
       "      <td>-1.348308</td>\n",
       "      <td>64.375443</td>\n",
       "    </tr>\n",
       "    <tr>\n",
       "      <th>99998</th>\n",
       "      <td>7kl59</td>\n",
       "      <td>0.998163</td>\n",
       "      <td>-0.528582</td>\n",
       "      <td>1.583869</td>\n",
       "      <td>74.040764</td>\n",
       "    </tr>\n",
       "    <tr>\n",
       "      <th>99999</th>\n",
       "      <td>1CWhH</td>\n",
       "      <td>1.764754</td>\n",
       "      <td>-0.266417</td>\n",
       "      <td>5.722849</td>\n",
       "      <td>149.633246</td>\n",
       "    </tr>\n",
       "  </tbody>\n",
       "</table>\n",
       "<p>100000 rows × 5 columns</p>\n",
       "</div>"
      ],
      "text/plain": [
       "          id        f0        f1        f2     product\n",
       "0      txEyH  0.705745 -0.497823  1.221170  105.280062\n",
       "1      2acmU  1.334711 -0.340164  4.365080   73.037750\n",
       "2      409Wp  1.022732  0.151990  1.419926   85.265647\n",
       "3      iJLyR -0.032172  0.139033  2.978566  168.620776\n",
       "4      Xdl7t  1.988431  0.155413  4.751769  154.036647\n",
       "...      ...       ...       ...       ...         ...\n",
       "99995  DLsed  0.971957  0.370953  6.075346  110.744026\n",
       "99996  QKivN  1.392429 -0.382606  1.273912  122.346843\n",
       "99997  3rnvd  1.029585  0.018787 -1.348308   64.375443\n",
       "99998  7kl59  0.998163 -0.528582  1.583869   74.040764\n",
       "99999  1CWhH  1.764754 -0.266417  5.722849  149.633246\n",
       "\n",
       "[100000 rows x 5 columns]"
      ]
     },
     "metadata": {},
     "output_type": "display_data"
    }
   ],
   "source": [
    "display(geo_data_0)"
   ]
  },
  {
   "cell_type": "code",
   "execution_count": 5,
   "metadata": {},
   "outputs": [
    {
     "data": {
      "text/html": [
       "<div>\n",
       "<style scoped>\n",
       "    .dataframe tbody tr th:only-of-type {\n",
       "        vertical-align: middle;\n",
       "    }\n",
       "\n",
       "    .dataframe tbody tr th {\n",
       "        vertical-align: top;\n",
       "    }\n",
       "\n",
       "    .dataframe thead th {\n",
       "        text-align: right;\n",
       "    }\n",
       "</style>\n",
       "<table border=\"1\" class=\"dataframe\">\n",
       "  <thead>\n",
       "    <tr style=\"text-align: right;\">\n",
       "      <th></th>\n",
       "      <th>f0</th>\n",
       "      <th>f1</th>\n",
       "      <th>f2</th>\n",
       "      <th>product</th>\n",
       "    </tr>\n",
       "  </thead>\n",
       "  <tbody>\n",
       "    <tr>\n",
       "      <th>count</th>\n",
       "      <td>100000.000000</td>\n",
       "      <td>100000.000000</td>\n",
       "      <td>100000.000000</td>\n",
       "      <td>100000.000000</td>\n",
       "    </tr>\n",
       "    <tr>\n",
       "      <th>mean</th>\n",
       "      <td>0.500419</td>\n",
       "      <td>0.250143</td>\n",
       "      <td>2.502647</td>\n",
       "      <td>92.500000</td>\n",
       "    </tr>\n",
       "    <tr>\n",
       "      <th>std</th>\n",
       "      <td>0.871832</td>\n",
       "      <td>0.504433</td>\n",
       "      <td>3.248248</td>\n",
       "      <td>44.288691</td>\n",
       "    </tr>\n",
       "    <tr>\n",
       "      <th>min</th>\n",
       "      <td>-1.408605</td>\n",
       "      <td>-0.848218</td>\n",
       "      <td>-12.088328</td>\n",
       "      <td>0.000000</td>\n",
       "    </tr>\n",
       "    <tr>\n",
       "      <th>25%</th>\n",
       "      <td>-0.072580</td>\n",
       "      <td>-0.200881</td>\n",
       "      <td>0.287748</td>\n",
       "      <td>56.497507</td>\n",
       "    </tr>\n",
       "    <tr>\n",
       "      <th>50%</th>\n",
       "      <td>0.502360</td>\n",
       "      <td>0.250252</td>\n",
       "      <td>2.515969</td>\n",
       "      <td>91.849972</td>\n",
       "    </tr>\n",
       "    <tr>\n",
       "      <th>75%</th>\n",
       "      <td>1.073581</td>\n",
       "      <td>0.700646</td>\n",
       "      <td>4.715088</td>\n",
       "      <td>128.564089</td>\n",
       "    </tr>\n",
       "    <tr>\n",
       "      <th>max</th>\n",
       "      <td>2.362331</td>\n",
       "      <td>1.343769</td>\n",
       "      <td>16.003790</td>\n",
       "      <td>185.364347</td>\n",
       "    </tr>\n",
       "  </tbody>\n",
       "</table>\n",
       "</div>"
      ],
      "text/plain": [
       "                  f0             f1             f2        product\n",
       "count  100000.000000  100000.000000  100000.000000  100000.000000\n",
       "mean        0.500419       0.250143       2.502647      92.500000\n",
       "std         0.871832       0.504433       3.248248      44.288691\n",
       "min        -1.408605      -0.848218     -12.088328       0.000000\n",
       "25%        -0.072580      -0.200881       0.287748      56.497507\n",
       "50%         0.502360       0.250252       2.515969      91.849972\n",
       "75%         1.073581       0.700646       4.715088     128.564089\n",
       "max         2.362331       1.343769      16.003790     185.364347"
      ]
     },
     "execution_count": 5,
     "metadata": {},
     "output_type": "execute_result"
    }
   ],
   "source": [
    "geo_data_0.describe()"
   ]
  },
  {
   "cell_type": "markdown",
   "metadata": {},
   "source": [
    "#### geo_data_1"
   ]
  },
  {
   "cell_type": "code",
   "execution_count": 6,
   "metadata": {},
   "outputs": [
    {
     "name": "stdout",
     "output_type": "stream",
     "text": [
      "<class 'pandas.core.frame.DataFrame'>\n",
      "RangeIndex: 100000 entries, 0 to 99999\n",
      "Data columns (total 5 columns):\n",
      " #   Column   Non-Null Count   Dtype  \n",
      "---  ------   --------------   -----  \n",
      " 0   id       100000 non-null  object \n",
      " 1   f0       100000 non-null  float64\n",
      " 2   f1       100000 non-null  float64\n",
      " 3   f2       100000 non-null  float64\n",
      " 4   product  100000 non-null  float64\n",
      "dtypes: float64(4), object(1)\n",
      "memory usage: 3.8+ MB\n"
     ]
    }
   ],
   "source": [
    "geo_data_1.info()"
   ]
  },
  {
   "cell_type": "code",
   "execution_count": 7,
   "metadata": {},
   "outputs": [
    {
     "data": {
      "text/html": [
       "<div>\n",
       "<style scoped>\n",
       "    .dataframe tbody tr th:only-of-type {\n",
       "        vertical-align: middle;\n",
       "    }\n",
       "\n",
       "    .dataframe tbody tr th {\n",
       "        vertical-align: top;\n",
       "    }\n",
       "\n",
       "    .dataframe thead th {\n",
       "        text-align: right;\n",
       "    }\n",
       "</style>\n",
       "<table border=\"1\" class=\"dataframe\">\n",
       "  <thead>\n",
       "    <tr style=\"text-align: right;\">\n",
       "      <th></th>\n",
       "      <th>id</th>\n",
       "      <th>f0</th>\n",
       "      <th>f1</th>\n",
       "      <th>f2</th>\n",
       "      <th>product</th>\n",
       "    </tr>\n",
       "  </thead>\n",
       "  <tbody>\n",
       "    <tr>\n",
       "      <th>0</th>\n",
       "      <td>kBEdx</td>\n",
       "      <td>-15.001348</td>\n",
       "      <td>-8.276000</td>\n",
       "      <td>-0.005876</td>\n",
       "      <td>3.179103</td>\n",
       "    </tr>\n",
       "    <tr>\n",
       "      <th>1</th>\n",
       "      <td>62mP7</td>\n",
       "      <td>14.272088</td>\n",
       "      <td>-3.475083</td>\n",
       "      <td>0.999183</td>\n",
       "      <td>26.953261</td>\n",
       "    </tr>\n",
       "    <tr>\n",
       "      <th>2</th>\n",
       "      <td>vyE1P</td>\n",
       "      <td>6.263187</td>\n",
       "      <td>-5.948386</td>\n",
       "      <td>5.001160</td>\n",
       "      <td>134.766305</td>\n",
       "    </tr>\n",
       "    <tr>\n",
       "      <th>3</th>\n",
       "      <td>KcrkZ</td>\n",
       "      <td>-13.081196</td>\n",
       "      <td>-11.506057</td>\n",
       "      <td>4.999415</td>\n",
       "      <td>137.945408</td>\n",
       "    </tr>\n",
       "    <tr>\n",
       "      <th>4</th>\n",
       "      <td>AHL4O</td>\n",
       "      <td>12.702195</td>\n",
       "      <td>-8.147433</td>\n",
       "      <td>5.004363</td>\n",
       "      <td>134.766305</td>\n",
       "    </tr>\n",
       "    <tr>\n",
       "      <th>...</th>\n",
       "      <td>...</td>\n",
       "      <td>...</td>\n",
       "      <td>...</td>\n",
       "      <td>...</td>\n",
       "      <td>...</td>\n",
       "    </tr>\n",
       "    <tr>\n",
       "      <th>99995</th>\n",
       "      <td>QywKC</td>\n",
       "      <td>9.535637</td>\n",
       "      <td>-6.878139</td>\n",
       "      <td>1.998296</td>\n",
       "      <td>53.906522</td>\n",
       "    </tr>\n",
       "    <tr>\n",
       "      <th>99996</th>\n",
       "      <td>ptvty</td>\n",
       "      <td>-10.160631</td>\n",
       "      <td>-12.558096</td>\n",
       "      <td>5.005581</td>\n",
       "      <td>137.945408</td>\n",
       "    </tr>\n",
       "    <tr>\n",
       "      <th>99997</th>\n",
       "      <td>09gWa</td>\n",
       "      <td>-7.378891</td>\n",
       "      <td>-3.084104</td>\n",
       "      <td>4.998651</td>\n",
       "      <td>137.945408</td>\n",
       "    </tr>\n",
       "    <tr>\n",
       "      <th>99998</th>\n",
       "      <td>rqwUm</td>\n",
       "      <td>0.665714</td>\n",
       "      <td>-6.152593</td>\n",
       "      <td>1.000146</td>\n",
       "      <td>30.132364</td>\n",
       "    </tr>\n",
       "    <tr>\n",
       "      <th>99999</th>\n",
       "      <td>relB0</td>\n",
       "      <td>-3.426139</td>\n",
       "      <td>-7.794274</td>\n",
       "      <td>-0.003299</td>\n",
       "      <td>3.179103</td>\n",
       "    </tr>\n",
       "  </tbody>\n",
       "</table>\n",
       "<p>100000 rows × 5 columns</p>\n",
       "</div>"
      ],
      "text/plain": [
       "          id         f0         f1        f2     product\n",
       "0      kBEdx -15.001348  -8.276000 -0.005876    3.179103\n",
       "1      62mP7  14.272088  -3.475083  0.999183   26.953261\n",
       "2      vyE1P   6.263187  -5.948386  5.001160  134.766305\n",
       "3      KcrkZ -13.081196 -11.506057  4.999415  137.945408\n",
       "4      AHL4O  12.702195  -8.147433  5.004363  134.766305\n",
       "...      ...        ...        ...       ...         ...\n",
       "99995  QywKC   9.535637  -6.878139  1.998296   53.906522\n",
       "99996  ptvty -10.160631 -12.558096  5.005581  137.945408\n",
       "99997  09gWa  -7.378891  -3.084104  4.998651  137.945408\n",
       "99998  rqwUm   0.665714  -6.152593  1.000146   30.132364\n",
       "99999  relB0  -3.426139  -7.794274 -0.003299    3.179103\n",
       "\n",
       "[100000 rows x 5 columns]"
      ]
     },
     "metadata": {},
     "output_type": "display_data"
    }
   ],
   "source": [
    "display(geo_data_1)"
   ]
  },
  {
   "cell_type": "code",
   "execution_count": 8,
   "metadata": {},
   "outputs": [
    {
     "data": {
      "text/html": [
       "<div>\n",
       "<style scoped>\n",
       "    .dataframe tbody tr th:only-of-type {\n",
       "        vertical-align: middle;\n",
       "    }\n",
       "\n",
       "    .dataframe tbody tr th {\n",
       "        vertical-align: top;\n",
       "    }\n",
       "\n",
       "    .dataframe thead th {\n",
       "        text-align: right;\n",
       "    }\n",
       "</style>\n",
       "<table border=\"1\" class=\"dataframe\">\n",
       "  <thead>\n",
       "    <tr style=\"text-align: right;\">\n",
       "      <th></th>\n",
       "      <th>f0</th>\n",
       "      <th>f1</th>\n",
       "      <th>f2</th>\n",
       "      <th>product</th>\n",
       "    </tr>\n",
       "  </thead>\n",
       "  <tbody>\n",
       "    <tr>\n",
       "      <th>count</th>\n",
       "      <td>100000.000000</td>\n",
       "      <td>100000.000000</td>\n",
       "      <td>100000.000000</td>\n",
       "      <td>100000.000000</td>\n",
       "    </tr>\n",
       "    <tr>\n",
       "      <th>mean</th>\n",
       "      <td>1.141296</td>\n",
       "      <td>-4.796579</td>\n",
       "      <td>2.494541</td>\n",
       "      <td>68.825000</td>\n",
       "    </tr>\n",
       "    <tr>\n",
       "      <th>std</th>\n",
       "      <td>8.965932</td>\n",
       "      <td>5.119872</td>\n",
       "      <td>1.703572</td>\n",
       "      <td>45.944423</td>\n",
       "    </tr>\n",
       "    <tr>\n",
       "      <th>min</th>\n",
       "      <td>-31.609576</td>\n",
       "      <td>-26.358598</td>\n",
       "      <td>-0.018144</td>\n",
       "      <td>0.000000</td>\n",
       "    </tr>\n",
       "    <tr>\n",
       "      <th>25%</th>\n",
       "      <td>-6.298551</td>\n",
       "      <td>-8.267985</td>\n",
       "      <td>1.000021</td>\n",
       "      <td>26.953261</td>\n",
       "    </tr>\n",
       "    <tr>\n",
       "      <th>50%</th>\n",
       "      <td>1.153055</td>\n",
       "      <td>-4.813172</td>\n",
       "      <td>2.011479</td>\n",
       "      <td>57.085625</td>\n",
       "    </tr>\n",
       "    <tr>\n",
       "      <th>75%</th>\n",
       "      <td>8.621015</td>\n",
       "      <td>-1.332816</td>\n",
       "      <td>3.999904</td>\n",
       "      <td>107.813044</td>\n",
       "    </tr>\n",
       "    <tr>\n",
       "      <th>max</th>\n",
       "      <td>29.421755</td>\n",
       "      <td>18.734063</td>\n",
       "      <td>5.019721</td>\n",
       "      <td>137.945408</td>\n",
       "    </tr>\n",
       "  </tbody>\n",
       "</table>\n",
       "</div>"
      ],
      "text/plain": [
       "                  f0             f1             f2        product\n",
       "count  100000.000000  100000.000000  100000.000000  100000.000000\n",
       "mean        1.141296      -4.796579       2.494541      68.825000\n",
       "std         8.965932       5.119872       1.703572      45.944423\n",
       "min       -31.609576     -26.358598      -0.018144       0.000000\n",
       "25%        -6.298551      -8.267985       1.000021      26.953261\n",
       "50%         1.153055      -4.813172       2.011479      57.085625\n",
       "75%         8.621015      -1.332816       3.999904     107.813044\n",
       "max        29.421755      18.734063       5.019721     137.945408"
      ]
     },
     "execution_count": 8,
     "metadata": {},
     "output_type": "execute_result"
    }
   ],
   "source": [
    "geo_data_1.describe()"
   ]
  },
  {
   "cell_type": "markdown",
   "metadata": {},
   "source": [
    "#### geo_data_2"
   ]
  },
  {
   "cell_type": "code",
   "execution_count": 9,
   "metadata": {},
   "outputs": [
    {
     "name": "stdout",
     "output_type": "stream",
     "text": [
      "<class 'pandas.core.frame.DataFrame'>\n",
      "RangeIndex: 100000 entries, 0 to 99999\n",
      "Data columns (total 5 columns):\n",
      " #   Column   Non-Null Count   Dtype  \n",
      "---  ------   --------------   -----  \n",
      " 0   id       100000 non-null  object \n",
      " 1   f0       100000 non-null  float64\n",
      " 2   f1       100000 non-null  float64\n",
      " 3   f2       100000 non-null  float64\n",
      " 4   product  100000 non-null  float64\n",
      "dtypes: float64(4), object(1)\n",
      "memory usage: 3.8+ MB\n"
     ]
    }
   ],
   "source": [
    "geo_data_2.info()"
   ]
  },
  {
   "cell_type": "code",
   "execution_count": 10,
   "metadata": {},
   "outputs": [
    {
     "data": {
      "text/html": [
       "<div>\n",
       "<style scoped>\n",
       "    .dataframe tbody tr th:only-of-type {\n",
       "        vertical-align: middle;\n",
       "    }\n",
       "\n",
       "    .dataframe tbody tr th {\n",
       "        vertical-align: top;\n",
       "    }\n",
       "\n",
       "    .dataframe thead th {\n",
       "        text-align: right;\n",
       "    }\n",
       "</style>\n",
       "<table border=\"1\" class=\"dataframe\">\n",
       "  <thead>\n",
       "    <tr style=\"text-align: right;\">\n",
       "      <th></th>\n",
       "      <th>id</th>\n",
       "      <th>f0</th>\n",
       "      <th>f1</th>\n",
       "      <th>f2</th>\n",
       "      <th>product</th>\n",
       "    </tr>\n",
       "  </thead>\n",
       "  <tbody>\n",
       "    <tr>\n",
       "      <th>0</th>\n",
       "      <td>fwXo0</td>\n",
       "      <td>-1.146987</td>\n",
       "      <td>0.963328</td>\n",
       "      <td>-0.828965</td>\n",
       "      <td>27.758673</td>\n",
       "    </tr>\n",
       "    <tr>\n",
       "      <th>1</th>\n",
       "      <td>WJtFt</td>\n",
       "      <td>0.262778</td>\n",
       "      <td>0.269839</td>\n",
       "      <td>-2.530187</td>\n",
       "      <td>56.069697</td>\n",
       "    </tr>\n",
       "    <tr>\n",
       "      <th>2</th>\n",
       "      <td>ovLUW</td>\n",
       "      <td>0.194587</td>\n",
       "      <td>0.289035</td>\n",
       "      <td>-5.586433</td>\n",
       "      <td>62.871910</td>\n",
       "    </tr>\n",
       "    <tr>\n",
       "      <th>3</th>\n",
       "      <td>q6cA6</td>\n",
       "      <td>2.236060</td>\n",
       "      <td>-0.553760</td>\n",
       "      <td>0.930038</td>\n",
       "      <td>114.572842</td>\n",
       "    </tr>\n",
       "    <tr>\n",
       "      <th>4</th>\n",
       "      <td>WPMUX</td>\n",
       "      <td>-0.515993</td>\n",
       "      <td>1.716266</td>\n",
       "      <td>5.899011</td>\n",
       "      <td>149.600746</td>\n",
       "    </tr>\n",
       "    <tr>\n",
       "      <th>...</th>\n",
       "      <td>...</td>\n",
       "      <td>...</td>\n",
       "      <td>...</td>\n",
       "      <td>...</td>\n",
       "      <td>...</td>\n",
       "    </tr>\n",
       "    <tr>\n",
       "      <th>99995</th>\n",
       "      <td>4GxBu</td>\n",
       "      <td>-1.777037</td>\n",
       "      <td>1.125220</td>\n",
       "      <td>6.263374</td>\n",
       "      <td>172.327046</td>\n",
       "    </tr>\n",
       "    <tr>\n",
       "      <th>99996</th>\n",
       "      <td>YKFjq</td>\n",
       "      <td>-1.261523</td>\n",
       "      <td>-0.894828</td>\n",
       "      <td>2.524545</td>\n",
       "      <td>138.748846</td>\n",
       "    </tr>\n",
       "    <tr>\n",
       "      <th>99997</th>\n",
       "      <td>tKPY3</td>\n",
       "      <td>-1.199934</td>\n",
       "      <td>-2.957637</td>\n",
       "      <td>5.219411</td>\n",
       "      <td>157.080080</td>\n",
       "    </tr>\n",
       "    <tr>\n",
       "      <th>99998</th>\n",
       "      <td>nmxp2</td>\n",
       "      <td>-2.419896</td>\n",
       "      <td>2.417221</td>\n",
       "      <td>-5.548444</td>\n",
       "      <td>51.795253</td>\n",
       "    </tr>\n",
       "    <tr>\n",
       "      <th>99999</th>\n",
       "      <td>V9kWn</td>\n",
       "      <td>-2.551421</td>\n",
       "      <td>-2.025625</td>\n",
       "      <td>6.090891</td>\n",
       "      <td>102.775767</td>\n",
       "    </tr>\n",
       "  </tbody>\n",
       "</table>\n",
       "<p>100000 rows × 5 columns</p>\n",
       "</div>"
      ],
      "text/plain": [
       "          id        f0        f1        f2     product\n",
       "0      fwXo0 -1.146987  0.963328 -0.828965   27.758673\n",
       "1      WJtFt  0.262778  0.269839 -2.530187   56.069697\n",
       "2      ovLUW  0.194587  0.289035 -5.586433   62.871910\n",
       "3      q6cA6  2.236060 -0.553760  0.930038  114.572842\n",
       "4      WPMUX -0.515993  1.716266  5.899011  149.600746\n",
       "...      ...       ...       ...       ...         ...\n",
       "99995  4GxBu -1.777037  1.125220  6.263374  172.327046\n",
       "99996  YKFjq -1.261523 -0.894828  2.524545  138.748846\n",
       "99997  tKPY3 -1.199934 -2.957637  5.219411  157.080080\n",
       "99998  nmxp2 -2.419896  2.417221 -5.548444   51.795253\n",
       "99999  V9kWn -2.551421 -2.025625  6.090891  102.775767\n",
       "\n",
       "[100000 rows x 5 columns]"
      ]
     },
     "metadata": {},
     "output_type": "display_data"
    }
   ],
   "source": [
    "display(geo_data_2)"
   ]
  },
  {
   "cell_type": "code",
   "execution_count": 11,
   "metadata": {},
   "outputs": [
    {
     "data": {
      "text/html": [
       "<div>\n",
       "<style scoped>\n",
       "    .dataframe tbody tr th:only-of-type {\n",
       "        vertical-align: middle;\n",
       "    }\n",
       "\n",
       "    .dataframe tbody tr th {\n",
       "        vertical-align: top;\n",
       "    }\n",
       "\n",
       "    .dataframe thead th {\n",
       "        text-align: right;\n",
       "    }\n",
       "</style>\n",
       "<table border=\"1\" class=\"dataframe\">\n",
       "  <thead>\n",
       "    <tr style=\"text-align: right;\">\n",
       "      <th></th>\n",
       "      <th>f0</th>\n",
       "      <th>f1</th>\n",
       "      <th>f2</th>\n",
       "      <th>product</th>\n",
       "    </tr>\n",
       "  </thead>\n",
       "  <tbody>\n",
       "    <tr>\n",
       "      <th>count</th>\n",
       "      <td>100000.000000</td>\n",
       "      <td>100000.000000</td>\n",
       "      <td>100000.000000</td>\n",
       "      <td>100000.000000</td>\n",
       "    </tr>\n",
       "    <tr>\n",
       "      <th>mean</th>\n",
       "      <td>0.002023</td>\n",
       "      <td>-0.002081</td>\n",
       "      <td>2.495128</td>\n",
       "      <td>95.000000</td>\n",
       "    </tr>\n",
       "    <tr>\n",
       "      <th>std</th>\n",
       "      <td>1.732045</td>\n",
       "      <td>1.730417</td>\n",
       "      <td>3.473445</td>\n",
       "      <td>44.749921</td>\n",
       "    </tr>\n",
       "    <tr>\n",
       "      <th>min</th>\n",
       "      <td>-8.760004</td>\n",
       "      <td>-7.084020</td>\n",
       "      <td>-11.970335</td>\n",
       "      <td>0.000000</td>\n",
       "    </tr>\n",
       "    <tr>\n",
       "      <th>25%</th>\n",
       "      <td>-1.162288</td>\n",
       "      <td>-1.174820</td>\n",
       "      <td>0.130359</td>\n",
       "      <td>59.450441</td>\n",
       "    </tr>\n",
       "    <tr>\n",
       "      <th>50%</th>\n",
       "      <td>0.009424</td>\n",
       "      <td>-0.009482</td>\n",
       "      <td>2.484236</td>\n",
       "      <td>94.925613</td>\n",
       "    </tr>\n",
       "    <tr>\n",
       "      <th>75%</th>\n",
       "      <td>1.158535</td>\n",
       "      <td>1.163678</td>\n",
       "      <td>4.858794</td>\n",
       "      <td>130.595027</td>\n",
       "    </tr>\n",
       "    <tr>\n",
       "      <th>max</th>\n",
       "      <td>7.238262</td>\n",
       "      <td>7.844801</td>\n",
       "      <td>16.739402</td>\n",
       "      <td>190.029838</td>\n",
       "    </tr>\n",
       "  </tbody>\n",
       "</table>\n",
       "</div>"
      ],
      "text/plain": [
       "                  f0             f1             f2        product\n",
       "count  100000.000000  100000.000000  100000.000000  100000.000000\n",
       "mean        0.002023      -0.002081       2.495128      95.000000\n",
       "std         1.732045       1.730417       3.473445      44.749921\n",
       "min        -8.760004      -7.084020     -11.970335       0.000000\n",
       "25%        -1.162288      -1.174820       0.130359      59.450441\n",
       "50%         0.009424      -0.009482       2.484236      94.925613\n",
       "75%         1.158535       1.163678       4.858794     130.595027\n",
       "max         7.238262       7.844801      16.739402     190.029838"
      ]
     },
     "execution_count": 11,
     "metadata": {},
     "output_type": "execute_result"
    }
   ],
   "source": [
    "geo_data_2.describe()"
   ]
  },
  {
   "cell_type": "markdown",
   "metadata": {},
   "source": [
    "### Fix the Data"
   ]
  },
  {
   "cell_type": "markdown",
   "metadata": {},
   "source": [
    "For the three tables there are no null values and all of the columns have the correct data type.\n",
    "\n",
    "I will do my due dilligence and check every table for duplicates."
   ]
  },
  {
   "cell_type": "code",
   "execution_count": 12,
   "metadata": {},
   "outputs": [
    {
     "name": "stdout",
     "output_type": "stream",
     "text": [
      "num_duplicates_0: 0\n",
      "num_duplicates_1: 0\n",
      "num_duplicates_2: 0\n"
     ]
    }
   ],
   "source": [
    "# Get the number of duplicate rows\n",
    "\n",
    "num_duplicates_0 = geo_data_0.duplicated().sum()\n",
    "\n",
    "print('num_duplicates_0:',num_duplicates_0)\n",
    "\n",
    "num_duplicates_1 = geo_data_1.duplicated().sum()\n",
    "\n",
    "print('num_duplicates_1:',num_duplicates_1)\n",
    "\n",
    "num_duplicates_2 = geo_data_2.duplicated().sum()\n",
    "\n",
    "print('num_duplicates_2:',num_duplicates_2)"
   ]
  },
  {
   "cell_type": "markdown",
   "metadata": {},
   "source": [
    "I will drop the column `id` from all three tables because it will interfere with the model's ability to work effectively"
   ]
  },
  {
   "cell_type": "code",
   "execution_count": 13,
   "metadata": {},
   "outputs": [],
   "source": [
    "geo_data_0 = geo_data_0.drop('id', axis=1)\n",
    "\n",
    "geo_data_1 = geo_data_1.drop('id', axis=1)\n",
    "\n",
    "geo_data_2 = geo_data_2.drop('id', axis=1)"
   ]
  },
  {
   "cell_type": "markdown",
   "metadata": {},
   "source": [
    "## Train and test the model for each region:"
   ]
  },
  {
   "cell_type": "code",
   "execution_count": 14,
   "metadata": {},
   "outputs": [
    {
     "name": "stdout",
     "output_type": "stream",
     "text": [
      "\n",
      "Region 0:\n",
      "Average volume of predicted reserves: 92.40\n",
      "Model RMSE: 37.76\n",
      "Validation data sample:\n",
      "             f0        f1        f2      actual   predicted\n",
      "75721  0.599283 -0.557623  2.121187  122.073350  101.901017\n",
      "80184  0.739017 -0.463156 -1.347584   48.738540   78.217774\n",
      "19864  1.422743 -0.534917  3.718798  131.338088  115.266901\n",
      "76699  1.580244 -0.238458  2.805149   88.327757  105.618618\n",
      "92991  0.918974  0.023961  2.598575   36.959266   97.980185\n",
      "\n",
      "Region 1:\n",
      "Average volume of predicted reserves: 68.71\n",
      "Model RMSE: 0.89\n",
      "Validation data sample:\n",
      "              f0        f1        f2      actual   predicted\n",
      "75721   6.078076  0.084568  0.002957    0.000000    0.844738\n",
      "80184  16.462386  2.712946  1.993030   53.906522   52.921612\n",
      "19864   7.051898  0.766983  4.990194  134.766305  135.110385\n",
      "76699  -0.240045 -0.380804  3.999693  107.813044  109.494863\n",
      "92991  13.350111 -8.558281  0.002010    0.000000   -0.047292\n",
      "\n",
      "Region 2:\n",
      "Average volume of predicted reserves: 94.77\n",
      "Model RMSE: 40.15\n",
      "Validation data sample:\n",
      "             f0        f1        f2      actual   predicted\n",
      "75721  2.111118 -1.679773  3.112240  117.441301   98.301916\n",
      "80184  0.734759  0.747788  3.670879   47.841249  101.592461\n",
      "19864 -2.513109  0.844631 -4.922889   45.883483   52.449099\n",
      "76699 -2.035301 -1.522988  5.072839  139.014608  109.922127\n",
      "92991  2.744145  1.429952 -1.372661   84.004276   72.411847\n"
     ]
    }
   ],
   "source": [
    "def train_and_evaluate_model(data):\n",
    "    # 2.1. Split the data into a training set and validation set at a ratio of 75:25\n",
    "    X = data.drop('product', axis=1)\n",
    "    y = data['product']\n",
    "    X_train, X_valid, y_train, y_valid = train_test_split(X, y, test_size=0.25, random_state=42)\n",
    "\n",
    "    # 2.2. Train the model and make predictions for the validation set\n",
    "    model = LinearRegression()\n",
    "    model.fit(X_train, y_train)\n",
    "    y_pred = model.predict(X_valid)\n",
    "\n",
    "    # 2.3. Save the predictions and correct answers for the validation set\n",
    "    validation_data = X_valid.copy()\n",
    "    validation_data['actual'] = y_valid\n",
    "    validation_data['predicted'] = y_pred\n",
    "\n",
    "    # 2.4. Print the average volume of predicted reserves and model RMSE\n",
    "    avg_predicted_reserves = y_pred.mean()\n",
    "    rmse = mean_squared_error(y_valid, y_pred, squared=False)\n",
    "    print(f\"Average volume of predicted reserves: {avg_predicted_reserves:.2f}\")\n",
    "    print(f\"Model RMSE: {rmse:.2f}\")\n",
    "\n",
    "    return validation_data, rmse\n",
    "\n",
    "# Analyze each region\n",
    "for region, data in zip(['Region 0', 'Region 1', 'Region 2'], [geo_data_0, geo_data_1, geo_data_2]):\n",
    "    print(f\"\\n{region}:\")\n",
    "    validation_data, rmse = train_and_evaluate_model(data)\n",
    "    \n",
    "    # 2.5. Analyze the results\n",
    "    print(f\"Validation data sample:\")\n",
    "    print(validation_data.head())"
   ]
  },
  {
   "cell_type": "markdown",
   "metadata": {},
   "source": [
    "### Conclusion:\n",
    "\n",
    "Based on the results for each region, we can make the following observations:\n",
    "\n",
    "1. Region 0:\n",
    "   - The average volume of predicted reserves is 92.40.\n",
    "   - The model's RMSE is 37.76, indicating a relatively high prediction error.\n",
    "   - The validation data sample shows that the model's predictions are not very close to the actual values.\n",
    "\n",
    "2. Region 1:\n",
    "   - The average volume of predicted reserves is 68.71.\n",
    "   - The model's RMSE is 0.89, which is significantly lower compared to Region 0, suggesting better prediction accuracy.\n",
    "   - The validation data sample demonstrates that the model's predictions are much closer to the actual values.\n",
    "\n",
    "3. Region 2:\n",
    "   - The average volume of predicted reserves is 94.77.\n",
    "   - The model's RMSE is 40.15, indicating a high prediction error, similar to Region 0.\n",
    "   - The validation data sample reveals that the model's predictions deviate considerably from the actual values.\n",
    "\n",
    "In conclusion, among the three regions, the linear regression model performs best for Region 1, as evidenced by the lowest RMSE value of 0.89. This suggests that the model is able to predict the volume of reserves in Region 1 with higher accuracy compared to the other two regions. Region 0 and Region 2 have significantly higher RMSE values, indicating that the model's predictions are less reliable for these regions."
   ]
  },
  {
   "cell_type": "markdown",
   "metadata": {},
   "source": [
    "## Prepare for profit calculation"
   ]
  },
  {
   "cell_type": "code",
   "execution_count": 15,
   "metadata": {},
   "outputs": [
    {
     "name": "stdout",
     "output_type": "stream",
     "text": [
      "Minimum volume of reserves required for each well to avoid losses: 111.11 thousand barrels\n",
      "\n",
      "Region 0:\n",
      "Average volume of reserves: 92.50 thousand barrels\n",
      "The average volume of reserves in Region 0 is not sufficient for developing a new well without losses.\n",
      "\n",
      "Region 1:\n",
      "Average volume of reserves: 68.83 thousand barrels\n",
      "The average volume of reserves in Region 1 is not sufficient for developing a new well without losses.\n",
      "\n",
      "Region 2:\n",
      "Average volume of reserves: 95.00 thousand barrels\n",
      "The average volume of reserves in Region 2 is not sufficient for developing a new well without losses.\n",
      "\n",
      "Findings:\n",
      "- The minimum volume of reserves required for each well to avoid losses is 111.11 thousand barrels.\n",
      "- Based on the comparison with the average volume of reserves in each region:\n",
      "  - Region 0: Insufficient reserves for profitable well development.\n",
      "  - Region 1: Insufficient reserves for profitable well development.\n",
      "  - Region 2: Insufficient reserves for profitable well development.\n",
      "- None of the regions have sufficient reserves for profitable well development.\n"
     ]
    }
   ],
   "source": [
    "# 3.1. Store all key values for calculations in separate variables\n",
    "oil_price = 4.5  # price of oil per barrel in dollars\n",
    "budget = 100000000  # budget for oil well development in dollars\n",
    "num_wells = 200  # number of oil wells to be developed\n",
    "revenue_per_unit = oil_price * 1000  # revenue per unit of oil (1 unit = 1000 barrels)\n",
    "\n",
    "# 3.2. Calculate the volume of reserves sufficient for developing a new well without losses\n",
    "min_volume_reserve = budget / (num_wells * revenue_per_unit)\n",
    "\n",
    "print(f\"Minimum volume of reserves required for each well to avoid losses: {min_volume_reserve:.2f} thousand barrels\")\n",
    "\n",
    "# Compare the minimum volume with the average volume of reserves in each region\n",
    "region_sufficient = []\n",
    "for region, data in zip(['Region 0', 'Region 1', 'Region 2'], [geo_data_0, geo_data_1, geo_data_2]):\n",
    "    avg_reserves = data['product'].mean()\n",
    "    print(f\"\\n{region}:\")\n",
    "    print(f\"Average volume of reserves: {avg_reserves:.2f} thousand barrels\")\n",
    "    if avg_reserves >= min_volume_reserve:\n",
    "        print(f\"The average volume of reserves in {region} is sufficient for developing a new well without losses.\")\n",
    "        region_sufficient.append(region)\n",
    "    else:\n",
    "        print(f\"The average volume of reserves in {region} is not sufficient for developing a new well without losses.\")\n",
    "        \n",
    "# 3.3. Provide the findings about the preparation for profit calculation step\n",
    "print(\"\\nFindings:\")\n",
    "print(f\"- The minimum volume of reserves required for each well to avoid losses is {min_volume_reserve:.2f} thousand barrels.\")\n",
    "print(\"- Based on the comparison with the average volume of reserves in each region:\")\n",
    "for region in ['Region 0', 'Region 1', 'Region 2']:\n",
    "    if region in region_sufficient:\n",
    "        print(f\"  - {region}: Sufficient reserves for profitable well development.\")\n",
    "    else:\n",
    "        print(f\"  - {region}: Insufficient reserves for profitable well development.\")\n",
    "if len(region_sufficient) > 0:\n",
    "    print(f\"- {' and '.join(region_sufficient)} have a higher potential for profitable well development.\")\n",
    "else:\n",
    "    print(\"- None of the regions have sufficient reserves for profitable well development.\")"
   ]
  },
  {
   "cell_type": "markdown",
   "metadata": {},
   "source": [
    "### Conclusion:\n",
    "Based on the analysis performed in this section, we can conclude that none of the three regions under consideration have sufficient reserves for profitable well development. The key findings are as follows:\n",
    "\n",
    "The minimum volume of reserves required for each well to avoid losses is calculated to be 111.11 thousand barrels. This value is derived from the given budget of `$100,000,000`, the number of wells to be developed (200), and the revenue per unit of oil (`$4,500` per 1,000 barrels).\n",
    "The average volume of reserves in each region is compared against the minimum required volume:\n",
    "\n",
    "Region 0 has an average volume of 92.50 thousand barrels\n",
    "Region 1 has an average volume of 68.83 thousand barrels\n",
    "Region 2 has an average volume of 95.00 thousand barrels\n",
    "\n",
    "All three regions have average reserves below the minimum required volume of 111.11 thousand barrels.\n",
    "Consequently, none of the regions - Region 0, Region 1, or Region 2 - have sufficient reserves to ensure profitable well development. Developing wells in these regions with the given budget and the expected revenue per unit of oil would likely result in financial losses."
   ]
  },
  {
   "cell_type": "markdown",
   "metadata": {},
   "source": [
    "## Write a function to calculate profit from a set of selected oil wells and model predictions"
   ]
  },
  {
   "cell_type": "code",
   "execution_count": 25,
   "metadata": {},
   "outputs": [
    {
     "name": "stdout",
     "output_type": "stream",
     "text": [
      "\n",
      "Region 0:\n",
      "Validation data sample:\n",
      "             f0        f1        f2     product   predicted\n",
      "75721  0.599283 -0.557623  2.121187  122.073350  101.901017\n",
      "80184  0.739017 -0.463156 -1.347584   48.738540   78.217774\n",
      "19864  1.422743 -0.534917  3.718798  131.338088  115.266901\n",
      "76699  1.580244 -0.238458  2.805149   88.327757  105.618618\n",
      "92991  0.918974  0.023961  2.598575   36.959266   97.980185\n",
      "Average predicted volume of reserves: 92.40\n",
      "RMSE: 37.76\n",
      "\n",
      "Region 1:\n",
      "Validation data sample:\n",
      "              f0        f1        f2     product   predicted\n",
      "75721   6.078076  0.084568  0.002957    0.000000    0.844738\n",
      "80184  16.462386  2.712946  1.993030   53.906522   52.921612\n",
      "19864   7.051898  0.766983  4.990194  134.766305  135.110385\n",
      "76699  -0.240045 -0.380804  3.999693  107.813044  109.494863\n",
      "92991  13.350111 -8.558281  0.002010    0.000000   -0.047292\n",
      "Average predicted volume of reserves: 68.71\n",
      "RMSE: 0.89\n",
      "\n",
      "Region 2:\n",
      "Validation data sample:\n",
      "             f0        f1        f2     product   predicted\n",
      "75721  2.111118 -1.679773  3.112240  117.441301   98.301916\n",
      "80184  0.734759  0.747788  3.670879   47.841249  101.592461\n",
      "19864 -2.513109  0.844631 -4.922889   45.883483   52.449099\n",
      "76699 -2.035301 -1.522988  5.072839  139.014608  109.922127\n",
      "92991  2.744145  1.429952 -1.372661   84.004276   72.411847\n",
      "Average predicted volume of reserves: 94.77\n",
      "RMSE: 40.15\n",
      "Profit Calculation Results:\n",
      "     Region  Total Reserves        Profit\n",
      "0  Region 0    29686.980254  3.359141e+07\n",
      "1  Region 1    27589.081548  2.415087e+07\n",
      "2  Region 2    27996.826132  2.598572e+07\n",
      "\n",
      "Most Profitable Region: Region 0\n",
      "Estimated Profit: $33,591,411.14\n",
      "Recommendation: Develop oil wells in Region 0 for a potential profit of $33,591,411.14.\n"
     ]
    }
   ],
   "source": [
    "def train_and_evaluate_model(data):\n",
    "    # Split the data\n",
    "    features = data[['f0', 'f1', 'f2']]\n",
    "    target = data['product']\n",
    "    X_train, X_val, y_train, y_val = train_test_split(features, target, test_size=0.25, random_state=42)\n",
    "\n",
    "    # Train the model\n",
    "    model = LinearRegression()\n",
    "    model.fit(X_train, y_train)\n",
    "\n",
    "    # Make predictions\n",
    "    predictions = model.predict(X_val)\n",
    "\n",
    "    # Calculate RMSE\n",
    "    rmse = mean_squared_error(y_val, predictions, squared=False)\n",
    "\n",
    "    # Create validation dataset\n",
    "    validation_data = X_val.copy()\n",
    "    validation_data['product'] = y_val\n",
    "    validation_data['predicted'] = predictions\n",
    "\n",
    "    return validation_data, rmse\n",
    "\n",
    "validation_data_list = []\n",
    "rmse_list = []\n",
    "\n",
    "# Analyze each region\n",
    "for region, data in zip(['Region 0', 'Region 1', 'Region 2'], [geo_data_0, geo_data_1, geo_data_2]):\n",
    "    print(f\"\\n{region}:\")\n",
    "    validation_data, rmse = train_and_evaluate_model(data)\n",
    "    validation_data_list.append(validation_data)\n",
    "    rmse_list.append(rmse)\n",
    "\n",
    "    # 2.5. Analyze the results\n",
    "    print(f\"Validation data sample:\")\n",
    "    print(validation_data.head())\n",
    "    print(f\"Average predicted volume of reserves: {validation_data['predicted'].mean():.2f}\")\n",
    "    print(f\"RMSE: {rmse:.2f}\")\n",
    "\n",
    "def calculate_profit(data, num_wells, revenue_per_unit, development_budget):\n",
    "    # 4.1. Pick the wells with the highest values of predictions\n",
    "    data = data.sort_values(by='predicted', ascending=False).head(num_wells)\n",
    "    \n",
    "    # 4.2. Summarize the target volume of reserves in accordance with these predictions\n",
    "    total_reserves = data['product'].sum()\n",
    "    \n",
    "    # Calculate the profit\n",
    "    revenue = total_reserves * revenue_per_unit\n",
    "    profit = revenue - development_budget\n",
    "    \n",
    "    return total_reserves, profit\n",
    "\n",
    "# Add the 'predicted' column to the original DataFrames\n",
    "geo_data_0['predicted'] = validation_data_list[0]['predicted']\n",
    "geo_data_1['predicted'] = validation_data_list[1]['predicted']\n",
    "geo_data_2['predicted'] = validation_data_list[2]['predicted']\n",
    "\n",
    "# Calculate profit for each region\n",
    "regions = ['Region 0', 'Region 1', 'Region 2']\n",
    "profit_data = []\n",
    "\n",
    "num_wells = 200\n",
    "revenue_per_unit = 4500  # $4500 per thousand barrels\n",
    "budget = 100_000_000  # $100 million\n",
    "\n",
    "for region, data in zip(regions, [geo_data_0, geo_data_1, geo_data_2]):\n",
    "    total_reserves, profit = calculate_profit(data, num_wells, revenue_per_unit, budget)\n",
    "    profit_data.append({'Region': region, 'Total Reserves': total_reserves, 'Profit': profit})\n",
    "\n",
    "# Create a DataFrame with profit data\n",
    "profit_df = pd.DataFrame(profit_data)\n",
    "\n",
    "# 4.3. Provide findings\n",
    "print(\"Profit Calculation Results:\")\n",
    "print(profit_df)\n",
    "\n",
    "most_profitable_region = profit_df.loc[profit_df['Profit'].idxmax(), 'Region']\n",
    "max_profit = profit_df.loc[profit_df['Profit'].idxmax(), 'Profit']\n",
    "\n",
    "print(f\"\\nMost Profitable Region: {most_profitable_region}\")\n",
    "print(f\"Estimated Profit: ${max_profit:,.2f}\")\n",
    "\n",
    "if max_profit > 0:\n",
    "    print(f\"Recommendation: Develop oil wells in {most_profitable_region} for a potential profit of ${max_profit:,.2f}.\")\n",
    "else:\n",
    "    print(\"Recommendation: None of the regions are expected to be profitable. Consider alternative investment opportunities.\")"
   ]
  },
  {
   "cell_type": "markdown",
   "metadata": {},
   "source": [
    "### Conclusion"
   ]
  },
  {
   "cell_type": "markdown",
   "metadata": {},
   "source": [
    "Based on the profit calculation results, Region 0 emerges as the most promising region for oil well development. The analysis shows that developing the top 200 wells in Region 0 is expected to yield a total reserve volume of approximately 29,686.98 thousand barrels. With the given revenue per unit of oil and the development budget, this translates to an estimated profit of $33,591,411.14.\n",
    "\n",
    "Region 2 ranks second in profitability, with a total reserve volume of 27,996.83 thousand barrels and an estimated profit of `$25,985,717.59`. Region 1 follows closely in third place, with a total reserve volume of 27,589.08 thousand barrels and an estimated profit of `$24,150,870.00`.\n",
    "\n",
    "It's noteworthy that all three regions are projected to be profitable, which provides the company with multiple viable options for investment. The profitability ranking from highest to lowest is:\n",
    "\n",
    "1. Region 0: $33,591,411.14\n",
    "\n",
    "2. Region 2: $25,985,717.59\n",
    "\n",
    "3. Region 1: $24,150,870.00\n",
    "\n",
    "Considering this profitability analysis, the recommendation is to focus on developing oil wells in Region 0. This region offers the highest potential profit among the three regions evaluated, with an advantage of over $7.6 million compared to the next most profitable region.\n",
    "\n",
    "However, the fact that all three regions show positive profit projections provides the company with flexibility in its development strategy. While Region 0 is the most attractive option, the company could consider diversifying its operations across multiple regions to mitigate risks, especially given the relatively close profit projections for Regions 1 and 2.\n",
    "\n",
    "By prioritizing Region 0, the company can maximize its return on investment while keeping in mind the potential of the other regions for future development or risk diversification strategies. This approach allows for optimal resource allocation while maintaining options for expansion in other profitable areas."
   ]
  },
  {
   "cell_type": "markdown",
   "metadata": {},
   "source": [
    "## Calculate risks and profit for each region"
   ]
  },
  {
   "cell_type": "code",
   "execution_count": 26,
   "metadata": {},
   "outputs": [
    {
     "name": "stdout",
     "output_type": "stream",
     "text": [
      "Risk and Profit Analysis Results:\n",
      "     Region  Average Profit  95% CI Lower  95% CI Upper  Risk of Loss (%)\n",
      "0  Region 0    3.970389e+06 -1.701113e+06  9.022637e+06               6.5\n",
      "1  Region 1    4.387155e+06  1.961251e+05  8.174389e+06               1.7\n",
      "2  Region 2    3.619723e+06 -1.713178e+06  9.174340e+06               8.1\n",
      "\n",
      "Most Promising Region: Region 1\n",
      "Average Profit: $4,387,154.86\n",
      "Risk of Loss: 1.70%\n",
      "\n",
      "Recommendation: Develop oil wells in Region 1 for an average profit of $4,387,154.86 with a risk of loss of 1.70%.\n"
     ]
    }
   ],
   "source": [
    "def calculate_profit_distribution(validation_data, num_wells, revenue_per_unit, development_budget, num_iterations=1000):\n",
    "    profits = []\n",
    "    for _ in range(num_iterations):\n",
    "        # Sample 500 rows with replacement from the validation set\n",
    "        resampled_data = resample(validation_data, replace=True, n_samples=500)\n",
    "        total_reserves, profit = calculate_profit(resampled_data, num_wells, revenue_per_unit, development_budget)\n",
    "        profits.append(profit)\n",
    "    return profits\n",
    "\n",
    "# 5.1. Use the bootstrapping technique with 1000 samples to find the distribution of profit\n",
    "profit_distributions = {}\n",
    "for region, validation_data in zip(regions, validation_data_list):\n",
    "    profit_distributions[region] = calculate_profit_distribution(validation_data, num_wells, revenue_per_unit, budget)\n",
    "\n",
    "# 5.2. Find average profit, 95% confidence interval and risk of losses\n",
    "results = []\n",
    "for region, profits in profit_distributions.items():\n",
    "    avg_profit = np.mean(profits)\n",
    "    ci_lower, ci_upper = np.percentile(profits, [2.5, 97.5])\n",
    "    risk_of_loss = np.mean(np.array(profits) < 0) * 100\n",
    "\n",
    "    results.append({\n",
    "        'Region': region,\n",
    "        'Average Profit': avg_profit,\n",
    "        '95% CI Lower': ci_lower,\n",
    "        '95% CI Upper': ci_upper,\n",
    "        'Risk of Loss (%)': risk_of_loss\n",
    "    })\n",
    "\n",
    "# Create a DataFrame with the results\n",
    "results_df = pd.DataFrame(results)\n",
    "\n",
    "# 5.3. Provide findings\n",
    "print(\"Risk and Profit Analysis Results:\")\n",
    "print(results_df)\n",
    "\n",
    "profitable_regions = results_df[results_df['Risk of Loss (%)'] < 2.5]\n",
    "\n",
    "if len(profitable_regions) > 0:\n",
    "    best_region = profitable_regions.loc[profitable_regions['Average Profit'].idxmax(), 'Region']\n",
    "    avg_profit = profitable_regions.loc[profitable_regions['Average Profit'].idxmax(), 'Average Profit']\n",
    "    risk_of_loss = profitable_regions.loc[profitable_regions['Average Profit'].idxmax(), 'Risk of Loss (%)']\n",
    "\n",
    "    print(f\"\\nMost Promising Region: {best_region}\")\n",
    "    print(f\"Average Profit: ${avg_profit:,.2f}\")\n",
    "    print(f\"Risk of Loss: {risk_of_loss:.2f}%\")\n",
    "\n",
    "    print(f\"\\nRecommendation: Develop oil wells in {best_region} for an average profit of ${avg_profit:,.2f} with a risk of loss of {risk_of_loss:.2f}%.\")\n",
    "else:\n",
    "    print(\"\\nRecommendation: None of the regions meet the acceptable risk threshold of 2.5%. Consider alternative investment opportunities.\")"
   ]
  },
  {
   "cell_type": "markdown",
   "metadata": {},
   "source": [
    "Based on the risk and profit analysis results, we can conclude the following:\n",
    "\n",
    "Region 1 emerges as the most promising area for oil well development. It offers the highest average profit of $4,387,154.86 and, crucially, has the lowest risk of loss at 1.70%. This risk level falls below the 2.5% threshold set in the project conditions, making it the only region that meets this important criterion.\n",
    "\n",
    "While Region 0 and Region 2 show potential for higher profits in their upper confidence intervals, their risk profiles are concerning. Region 0 has a 6.5% risk of loss, and Region 2 has an even higher 8.1% risk, both exceeding the acceptable threshold.\n",
    "\n",
    "The 95% confidence intervals provide additional insights:\n",
    "- Region 1: `$196,125` to `$8,174,389`\n",
    "\n",
    "- Region 0: `-$1,701,113` to `$9,022,637`\n",
    "\n",
    "- Region 2: `-$1,713,178` to `$9,174,340`\n",
    "\n",
    "Although Regions 0 and 2 have wider ranges that include higher potential profits, they also extend into negative territories, reflecting their higher risk.\n",
    "\n",
    "Given these results, the recommendation is to focus oil well development efforts on Region 1. This strategy balances the potential for profit with a manageable level of risk, aligning with the company's risk tolerance as specified in the project conditions. By choosing Region 1, the company can expect an average profit of over $4.3 million while maintaining a low 1.70% chance of incurring losses.\n",
    "\n",
    "This approach provides the best combination of financial opportunity and risk mitigation among the three regions analyzed, making it the most prudent choice for investment."
   ]
  },
  {
   "cell_type": "markdown",
   "metadata": {},
   "source": [
    "# Conlcusion\n",
    "\n",
    "Based on the comprehensive analysis conducted throughout this project, we can draw the following conclusions:\n",
    "\n",
    "1. Model Performance: Among the three regions analyzed, Region 1 demonstrated the best performance in terms of prediction accuracy, with the lowest RMSE of 0.89. This suggests that our linear regression model is most reliable for predicting oil reserves in Region 1.\n",
    "\n",
    "2. Profit Potential: Initially, when considering average reserves, none of the regions appeared profitable. However, by using our predictive model to select the most promising wells, all three regions showed potential for profit.\n",
    "\n",
    "3. Risk and Profit Analysis: After applying bootstrapping techniques to assess risk:\n",
    "\n",
    "   - Region 1 emerged as the most promising, with an average profit of $4,387,154.86 and the lowest risk of loss at 1.70%.\n",
    "   - Region 0 showed higher potential profits but also higher risk, with a 6.5% chance of loss.\n",
    "   - Region 2 had the highest risk at 8.1%, despite showing potential for high profits.\n",
    "\n",
    "4. Final Recommendation: Based on the project's risk tolerance threshold of 2.5%, Region 1 is the only area that meets this criterion. It offers the best balance of profit potential and risk mitigation.\n",
    "\n",
    "In conclusion, we recommend that OilyGiant focus its oil well development efforts on Region 1. This strategy is expected to yield an average profit of over $4.3 million while maintaining a low 1.70% risk of loss. This approach aligns with the company's risk tolerance and offers the most prudent investment opportunity among the three regions analyzed.\n",
    "\n",
    "It's important to note that while Regions 0 and 2 show potential for higher profits, their risk levels exceed the company's acceptable threshold. However, these regions could be considered for future exploration or development if the company's risk tolerance changes or if additional risk mitigation strategies can be implemented.\n",
    "\n",
    "Moving forward, OilyGiant should:\n",
    "1. Prioritize development in Region 1\n",
    "2. Continue refining the predictive model, especially for Region 1\n",
    "3. Consider further geological studies in Regions 0 and 2 to potentially reduce risk in these areas for future development\n",
    "\n",
    "This data-driven approach should position OilyGiant to maximize its return on investment while managing risk appropriately in its oil well development strategy."
   ]
  }
 ],
 "metadata": {
  "ExecuteTimeLog": [
   {
    "duration": 483,
    "start_time": "2024-06-19T16:19:10.340Z"
   },
   {
    "duration": 164,
    "start_time": "2024-06-19T16:21:43.764Z"
   },
   {
    "duration": 486,
    "start_time": "2024-06-19T16:22:15.229Z"
   },
   {
    "duration": 19,
    "start_time": "2024-06-19T16:22:40.184Z"
   },
   {
    "duration": 3,
    "start_time": "2024-06-19T16:23:12.886Z"
   },
   {
    "duration": 23,
    "start_time": "2024-06-19T16:29:55.696Z"
   },
   {
    "duration": 52,
    "start_time": "2024-06-19T16:30:30.776Z"
   },
   {
    "duration": 23,
    "start_time": "2024-06-19T16:31:10.250Z"
   },
   {
    "duration": 19,
    "start_time": "2024-06-19T16:31:16.055Z"
   },
   {
    "duration": 42,
    "start_time": "2024-06-19T16:31:24.495Z"
   },
   {
    "duration": 17,
    "start_time": "2024-06-19T16:31:46.438Z"
   },
   {
    "duration": 339,
    "start_time": "2024-06-19T16:31:53.788Z"
   },
   {
    "duration": 16,
    "start_time": "2024-06-19T16:32:12.791Z"
   },
   {
    "duration": 43,
    "start_time": "2024-06-19T16:32:18.318Z"
   },
   {
    "duration": 9,
    "start_time": "2024-06-19T16:36:54.579Z"
   },
   {
    "duration": 5,
    "start_time": "2024-06-19T16:37:16.422Z"
   },
   {
    "duration": 6,
    "start_time": "2024-06-19T16:37:22.463Z"
   },
   {
    "duration": 63,
    "start_time": "2024-06-19T16:37:29.724Z"
   },
   {
    "duration": 59,
    "start_time": "2024-06-19T16:37:35.069Z"
   },
   {
    "duration": 166,
    "start_time": "2024-06-19T16:38:05.714Z"
   },
   {
    "duration": 7,
    "start_time": "2024-06-19T16:41:41.056Z"
   },
   {
    "duration": 1378,
    "start_time": "2024-06-19T16:41:56.832Z"
   },
   {
    "duration": 438,
    "start_time": "2024-06-19T16:42:01.998Z"
   },
   {
    "duration": 378,
    "start_time": "2024-06-19T16:42:02.439Z"
   },
   {
    "duration": 19,
    "start_time": "2024-06-19T16:42:02.822Z"
   },
   {
    "duration": 24,
    "start_time": "2024-06-19T16:42:02.844Z"
   },
   {
    "duration": 76,
    "start_time": "2024-06-19T16:42:02.873Z"
   },
   {
    "duration": 20,
    "start_time": "2024-06-19T16:42:02.952Z"
   },
   {
    "duration": 18,
    "start_time": "2024-06-19T16:42:02.975Z"
   },
   {
    "duration": 43,
    "start_time": "2024-06-19T16:42:03.025Z"
   },
   {
    "duration": 18,
    "start_time": "2024-06-19T16:42:03.071Z"
   },
   {
    "duration": 43,
    "start_time": "2024-06-19T16:42:03.093Z"
   },
   {
    "duration": 40,
    "start_time": "2024-06-19T16:42:03.140Z"
   },
   {
    "duration": 192,
    "start_time": "2024-06-19T16:42:03.183Z"
   },
   {
    "duration": 16,
    "start_time": "2024-06-19T16:42:03.378Z"
   },
   {
    "duration": 763,
    "start_time": "2024-06-19T16:54:00.288Z"
   },
   {
    "duration": 204,
    "start_time": "2024-06-19T16:54:11.140Z"
   },
   {
    "duration": 10,
    "start_time": "2024-06-19T17:03:11.377Z"
   },
   {
    "duration": 11,
    "start_time": "2024-06-19T17:09:12.443Z"
   },
   {
    "duration": 12,
    "start_time": "2024-06-19T17:11:19.508Z"
   },
   {
    "duration": 212,
    "start_time": "2024-06-19T17:15:08.197Z"
   },
   {
    "duration": 240,
    "start_time": "2024-06-19T17:16:02.618Z"
   },
   {
    "duration": 69,
    "start_time": "2024-06-19T17:16:56.952Z"
   },
   {
    "duration": 4,
    "start_time": "2024-06-19T17:37:44.737Z"
   },
   {
    "duration": 50100,
    "start_time": "2024-06-19T17:39:15.072Z"
   },
   {
    "duration": 1314,
    "start_time": "2024-06-20T17:31:49.254Z"
   },
   {
    "duration": 555,
    "start_time": "2024-06-20T17:31:50.571Z"
   },
   {
    "duration": 20,
    "start_time": "2024-06-20T17:31:51.130Z"
   },
   {
    "duration": 22,
    "start_time": "2024-06-20T17:31:51.155Z"
   },
   {
    "duration": 84,
    "start_time": "2024-06-20T17:31:51.181Z"
   },
   {
    "duration": 23,
    "start_time": "2024-06-20T17:31:51.269Z"
   },
   {
    "duration": 38,
    "start_time": "2024-06-20T17:31:51.295Z"
   },
   {
    "duration": 51,
    "start_time": "2024-06-20T17:31:51.336Z"
   },
   {
    "duration": 48,
    "start_time": "2024-06-20T17:31:51.395Z"
   },
   {
    "duration": 17,
    "start_time": "2024-06-20T17:31:51.500Z"
   },
   {
    "duration": 45,
    "start_time": "2024-06-20T17:31:51.640Z"
   },
   {
    "duration": 175,
    "start_time": "2024-06-20T17:31:52.265Z"
   },
   {
    "duration": 20,
    "start_time": "2024-06-20T17:31:52.556Z"
   },
   {
    "duration": 241,
    "start_time": "2024-06-20T17:31:53.101Z"
   },
   {
    "duration": 12,
    "start_time": "2024-06-20T17:31:54.945Z"
   },
   {
    "duration": 64,
    "start_time": "2024-06-20T17:31:56.967Z"
   },
   {
    "duration": 17,
    "start_time": "2024-06-20T17:32:29.549Z"
   },
   {
    "duration": 16,
    "start_time": "2024-06-20T17:32:33.851Z"
   },
   {
    "duration": 416,
    "start_time": "2024-06-20T17:56:58.524Z"
   },
   {
    "duration": 2734,
    "start_time": "2024-06-20T18:04:44.882Z"
   }
  ],
  "kernelspec": {
   "display_name": "Python 3 (ipykernel)",
   "language": "python",
   "name": "python3"
  },
  "language_info": {
   "codemirror_mode": {
    "name": "ipython",
    "version": 3
   },
   "file_extension": ".py",
   "mimetype": "text/x-python",
   "name": "python",
   "nbconvert_exporter": "python",
   "pygments_lexer": "ipython3",
   "version": "3.11.7"
  },
  "toc": {
   "base_numbering": 1,
   "nav_menu": {},
   "number_sections": true,
   "sideBar": true,
   "skip_h1_title": true,
   "title_cell": "Table of Contents",
   "title_sidebar": "Contents",
   "toc_cell": false,
   "toc_position": {},
   "toc_section_display": true,
   "toc_window_display": true
  }
 },
 "nbformat": 4,
 "nbformat_minor": 4
}
